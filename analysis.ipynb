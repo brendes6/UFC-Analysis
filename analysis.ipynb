{
 "cells": [
  {
   "cell_type": "code",
   "execution_count": 2,
   "metadata": {},
   "outputs": [],
   "source": [
    "import pandas as pd\n",
    "import mysql.connector as sql\n",
    "import matplotlib.pyplot as plt\n",
    "from Scripts.queries import query_data"
   ]
  },
  {
   "cell_type": "code",
   "execution_count": 8,
   "metadata": {},
   "outputs": [
    {
     "name": "stderr",
     "output_type": "stream",
     "text": [
      "/Users/brendandesjardins/UFC Project/Scripts/queries.py:7: UserWarning: pandas only supports SQLAlchemy connectable (engine/connection) or database string URI or sqlite3 DBAPI2 connection. Other DBAPI2 objects are not tested. Please consider using SQLAlchemy.\n",
      "  df = pd.read_sql(query, connection)\n"
     ]
    }
   ],
   "source": [
    "df = query_data(\"\"\"SELECT \n",
    "\t                weight_class, \n",
    "                    COUNT(CASE WHEN finish = \"KO/TKO\" THEN 1 END) / COUNT(*) * 100 AS KoPct,\n",
    "                    COUNT(CASE WHEN finish = \"KO/TKO\" AND title_bout = 1 THEN 1 END) / COUNT(CASE WHEN title_bout = 1 THEN 1 END) * 100 AS KoPct_Title\n",
    "                FROM ufc_fights WHERE weight_class NOT IN (\"Catch Weight\") GROUP BY weight_class ORDER BY KoPct;\n",
    "                \"\"\")\n",
    "df.to_csv(\"KosTitles.csv\")\n"
   ]
  },
  {
   "cell_type": "code",
   "execution_count": 4,
   "metadata": {},
   "outputs": [],
   "source": [
    "df = query_data(\"\"\"SELECT \n",
    "                DISTINCT fighter_name, MAX(wins) / (MAX(losses)+MAX(wins)) AS win_loss, MAX(avg_pct) as avg_pct FROM (\n",
    "\t                SELECT red_fighter AS fighter_name, red_wins AS wins, red_losses as losses, red_avg_str_pct AS avg_pct FROM ufc_fights\n",
    "                    UNION ALL\n",
    "                    SELECT blue_fighter AS fighter_name, blue_wins AS wins, blue_losses as losses, blue_avg_str_pct AS avg_pct FROM ufc_fights\n",
    "                ) AS combined GROUP BY fighter_name LIMIT 15000;\"\"\")\n",
    "df.to_csv(\"WinLossStrAcc.csv\")"
   ]
  }
 ],
 "metadata": {
  "kernelspec": {
   "display_name": "Python 3",
   "language": "python",
   "name": "python3"
  },
  "language_info": {
   "codemirror_mode": {
    "name": "ipython",
    "version": 3
   },
   "file_extension": ".py",
   "mimetype": "text/x-python",
   "name": "python",
   "nbconvert_exporter": "python",
   "pygments_lexer": "ipython3",
   "version": "3.11.5"
  },
  "orig_nbformat": 4
 },
 "nbformat": 4,
 "nbformat_minor": 2
}
